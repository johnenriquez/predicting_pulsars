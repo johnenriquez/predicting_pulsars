{
 "cells": [
  {
   "cell_type": "markdown",
   "metadata": {},
   "source": [
    "# Predicting Pulsars\n",
    "\n",
    "This project exists for multiple reasons. I am:\n",
    "- endlessly fascinated by the frontier of space\n",
    "- actively sharpening my data science and machine learning skills\n",
    "- shamelessly trying to impress potential employers\n",
    "\n",
    "So I dug around in the [UCI Machine Learning Repository](https://archive.ics.uci.edu/ml/index.php) in hopes to find a sane, vetted, and clean dataset so I can focus on exploring. This led me to the HTRU2 data set.\n",
    "\n",
    "## What's HTRU2?\n",
    "\n",
    "The HTRU2 data set is a sample collected from the [High Time Resolution Universe Pulsar Survey](https://academic.oup.com/mnras/article/409/2/619/1037409)[^1] which describes possible pulsar candidates.\n",
    "\n",
    "## Slow down. Pulsar candidates?\n",
    "\n",
    "Pulsars are some insane celestial bodies. Take a star at least four to eight times more massive than our sun that, at the end of its life, violently explodes into a supernova. This brilliant explosion sheds its outer layers into a beautiful super nova and leaves behind an impossibly dense sphere only 12 miles across. A teaspoon of this stellar mass would weigh a billion tons. It could spin up to 43,000 revolutions per minute while emitting electromagnetic radiation. Some certain neutron stars may also happen to be highly magnetized, which would emit more of a beam. If this spinning beam crosses earth during its rotation, we'd detect a highly regular pattern of radio waves emitting from its point in our sky.\n",
    "\n",
    "It's these patterns that the High Time Resolution Universe Pulsar Survey works to detect. Unfortunately, the radio signals picked up tend to be very noisy, and it takes a lot of time and resources to have humans annotate and verify all this data. So we're using machine learning to help aid in the process of annotation, to ease up the workload placed on the silly humans.\n",
    "\n",
    "\n",
    "## What's in HTRU2?\n",
    "\n",
    "It has attributes that describe x, y, and z. It contains 17,898 total examples, consisting of 1,639 positive examples and 16,259 negative examples. This set was verified and annotated by humans.\n",
    "\n",
    "\n",
    "## So what are you doing?\n",
    "\n",
    "I'm going to\n",
    "- explore the data using descriptive statistics to get an understanding of the data\n",
    "- run some initial algorithms to get a baseline performance indication\n",
    "- possibly do some feature engineering to see if we can optimize the data better for the algorithms\n",
    "- select the best performing algorithm\n",
    "- optimize the algorithm for better performance\n",
    "- then save the model\n",
    "\n",
    "## The process\n",
    "\n",
    "I'm using the Scientific Python tech stack.\n",
    "\n",
    "We'll start by loading up some standard scipy libraries:"
   ]
  },
  {
   "cell_type": "code",
   "execution_count": null,
   "metadata": {},
   "outputs": [],
   "source": []
  },
  {
   "cell_type": "markdown",
   "metadata": {},
   "source": [
    "## Conclusion\n",
    "\n",
    "This was fun!\n",
    "\n",
    "## Footnotes\n",
    "\n",
    "[^1]: M. J. Keith et al., 'The High Time Resolution Universe Pulsar Survey - I. System Configuration and Initial Discoveries',2010, Monthly Notices of the Royal Astronomical Society, vol. 409, pp. 619-627. DOI: 10.1111/j.1365-2966.2010.17325.x"
   ]
  }
 ],
 "metadata": {
  "kernelspec": {
   "display_name": "Python 3",
   "language": "python",
   "name": "python3"
  },
  "language_info": {
   "codemirror_mode": {
    "name": "ipython",
    "version": 3
   },
   "file_extension": ".py",
   "mimetype": "text/x-python",
   "name": "python",
   "nbconvert_exporter": "python",
   "pygments_lexer": "ipython3",
   "version": "3.7.3"
  }
 },
 "nbformat": 4,
 "nbformat_minor": 2
}
